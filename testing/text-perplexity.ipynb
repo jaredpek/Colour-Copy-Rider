{
 "cells": [
  {
   "cell_type": "code",
   "execution_count": 1,
   "metadata": {},
   "outputs": [],
   "source": [
    "import requests"
   ]
  },
  {
   "cell_type": "code",
   "execution_count": 2,
   "metadata": {},
   "outputs": [],
   "source": [
    "product = 'mcdonald\\'s all new black pepper chicken burger'"
   ]
  },
  {
   "cell_type": "code",
   "execution_count": 3,
   "metadata": {},
   "outputs": [
    {
     "data": {
      "text/plain": [
       "{'id': '1603c5eb-1500-404a-b1b2-e6d68708db4d',\n",
       " 'model': 'mistral-7b-instruct',\n",
       " 'created': 1382214,\n",
       " 'usage': {'prompt_tokens': 251,\n",
       "  'completion_tokens': 357,\n",
       "  'total_tokens': 608},\n",
       " 'object': 'chat.completion',\n",
       " 'choices': [{'index': 0,\n",
       "   'finish_reason': 'stop',\n",
       "   'message': {'role': 'assistant',\n",
       "    'content': 'Headline: \"\\\\შნĽacion Japonaise: Introducing McDonald\\'s New Black Pepper Chicken Burger - A Deliciously Spicy Adventure!\"\\n\\nAttention: Are you on the hunt for a burger that will leave your taste buds dancing with excitement? Look no further than McDonald\\'s newest addition to the menu - the Black Pepper Chicken Burger!\\n\\nInterest: This delectable burger is infused with the bold and invigorating flavor of black pepper, taking your taste experience on a savory adventure. The juicy, black pepper-infused chicken patty is sandwiched between a grilled bun and topped with crisp lettuce, fresh tomatoes, and creamy mayo. Each bite delivers a perfect balance of heat and deliciousness.\\n\\nDesire: Join the ranks of those who have already indulged in this tantalizing creation, and let your taste buds be enchanted by its rich and spicy essence. The Black Pepper Chicken Burger isn\\'t just a meal, it\\'s an experience. Many have raved about how it adds a burst of flavor to their everyday meals, making their culinary adventures at McDonald\\'s even more enjoyable.\\n\\nCall to Action:Ready to embark on this succulent adventure yourself? Swing by your local McDonald\\'s and order the Black Pepper Chicken Burger today. Your taste buds will thank you! Don\\'t miss out on this limited-time offer, and let the mesmerizing flavors of the new Black Pepper Chicken Burger leave you craving for more.\\n\\nMcdonald\\'s Team.'},\n",
       "   'delta': {'role': 'assistant', 'content': ''}}]}"
      ]
     },
     "execution_count": 3,
     "metadata": {},
     "output_type": "execute_result"
    }
   ],
   "source": [
    "response = requests.post('http://localhost:3000/text', json={'product': product})\n",
    "response.json()"
   ]
  }
 ],
 "metadata": {
  "kernelspec": {
   "display_name": "Python 3",
   "language": "python",
   "name": "python3"
  },
  "language_info": {
   "codemirror_mode": {
    "name": "ipython",
    "version": 3
   },
   "file_extension": ".py",
   "mimetype": "text/x-python",
   "name": "python",
   "nbconvert_exporter": "python",
   "pygments_lexer": "ipython3",
   "version": "3.10.5"
  }
 },
 "nbformat": 4,
 "nbformat_minor": 2
}
